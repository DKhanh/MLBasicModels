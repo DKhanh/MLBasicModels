{
  "nbformat": 4,
  "nbformat_minor": 0,
  "metadata": {
    "colab": {
      "name": "LogisticRegression.ipynb",
      "provenance": [],
      "collapsed_sections": [],
      "authorship_tag": "ABX9TyMnd0oLiJp7wA0syzVPk1iD",
      "include_colab_link": true
    },
    "kernelspec": {
      "name": "python3",
      "display_name": "Python 3"
    }
  },
  "cells": [
    {
      "cell_type": "markdown",
      "metadata": {
        "id": "view-in-github",
        "colab_type": "text"
      },
      "source": [
        "<a href=\"https://colab.research.google.com/github/DKhanh/MLBasicModels/blob/master/LogisticRegression.ipynb\" target=\"_parent\"><img src=\"https://colab.research.google.com/assets/colab-badge.svg\" alt=\"Open In Colab\"/></a>"
      ]
    },
    {
      "cell_type": "code",
      "metadata": {
        "id": "aHwtecKvFAHm"
      },
      "source": [
        "import numpy as np\n",
        "import pandas as pd\n",
        "import matplotlib.pyplot as plt\n",
        "import seaborn as sns\n",
        "\n",
        "DATASET_SIZE = 10000\n",
        "FEATURE_SIZE = 5\n",
        "\n",
        "TRAINING_SIZE = int(DATASET_SIZE*0.6)\n",
        "CV_SIZE = int(DATASET_SIZE*0.2)\n",
        "TEST_SIZE = DATASET_SIZE - TRAINING_SIZE - CV_SIZE\n",
        "\n",
        "theta = np.random.uniform(-1, 1, size=(FEATURE_SIZE, 1))\n",
        "learning_rate = 0.005\n",
        "number_of_epoch = 500000\n",
        "cost_threshold = 0.01"
      ],
      "execution_count": 37,
      "outputs": []
    },
    {
      "cell_type": "markdown",
      "metadata": {
        "id": "tj0lmiM1Bf-T"
      },
      "source": [
        "## **LOGISTIC REGRESSION IMPLEMENTATION**"
      ]
    },
    {
      "cell_type": "markdown",
      "metadata": {
        "id": "Yq97RjLtBy_P"
      },
      "source": [
        "1.   Input equation that ML model will try to learn\n",
        "\n"
      ]
    },
    {
      "cell_type": "code",
      "metadata": {
        "id": "xeTWt5HmCJ4y"
      },
      "source": [
        "def inputEquation(x):\n",
        "  linearPart = 18*(x[0]**4)- 5*(x[1]*x[0]) + 180895*(x[2]) + (x[3]*x[1]*x[2]**2)+ 2020*(x[4])\n",
        "  y = 1/(1+np.exp((-1)*linearPart))\n",
        "  return y"
      ],
      "execution_count": 17,
      "outputs": []
    },
    {
      "cell_type": "markdown",
      "metadata": {
        "id": "PQYnLen8DrzY"
      },
      "source": [
        "2. Generate dataset\n"
      ]
    },
    {
      "cell_type": "code",
      "metadata": {
        "colab": {
          "base_uri": "https://localhost:8080/"
        },
        "id": "ZzTV-gMDFcN7",
        "outputId": "66bd0d03-bc9c-4b30-a640-6f5fc92a1a45"
      },
      "source": [
        "x0 = np.random.uniform(-1, 4, (DATASET_SIZE, 1))\n",
        "x1 = np.random.uniform(-4, 1, (DATASET_SIZE, 1))\n",
        "x2 = np.random.uniform(-3, 2, (DATASET_SIZE, 1))\n",
        "x3 = np.random.uniform(-1, 0, (DATASET_SIZE, 1))\n",
        "x4 = np.random.uniform(0, 1, (DATASET_SIZE, 1))\n",
        "\n",
        "x = np.concatenate((x0, x1, x2, x3, x4), axis=1)\n",
        "y = [inputEquation(row) for row in x]\n",
        "y = np.array(y).reshape(DATASET_SIZE, 1)\n",
        "# print(x.shape)\n",
        "# print(y.shape)"
      ],
      "execution_count": 18,
      "outputs": [
        {
          "output_type": "stream",
          "text": [
            "/usr/local/lib/python3.6/dist-packages/ipykernel_launcher.py:3: RuntimeWarning: overflow encountered in exp\n",
            "  This is separate from the ipykernel package so we can avoid doing imports until\n"
          ],
          "name": "stderr"
        }
      ]
    },
    {
      "cell_type": "code",
      "metadata": {
        "id": "RyWUJqzmLn3D"
      },
      "source": [
        "x_train = x[0:TRAINING_SIZE]\n",
        "y_train = y[0:TRAINING_SIZE]\n",
        "\n",
        "x_cv = x[TRAINING_SIZE:TRAINING_SIZE+CV_SIZE]\n",
        "y_cv = y[TRAINING_SIZE:TRAINING_SIZE+CV_SIZE]\n",
        "\n",
        "x_test = x[TRAINING_SIZE+CV_SIZE:]\n",
        "y_test = y[TRAINING_SIZE+CV_SIZE:]\n",
        "# print(x_test.shape[0])"
      ],
      "execution_count": 19,
      "outputs": []
    },
    {
      "cell_type": "markdown",
      "metadata": {
        "id": "r0K18iLZwqMq"
      },
      "source": [
        "3. Hypothesis model"
      ]
    },
    {
      "cell_type": "code",
      "metadata": {
        "id": "IvxOQHLHwtDP",
        "colab": {
          "base_uri": "https://localhost:8080/"
        },
        "outputId": "6c74ae1e-3f39-4efb-b14c-a638027d5c5d"
      },
      "source": [
        "def logisticRegressionHypothesis(input_dataset, theta):\n",
        "  linearPart = np.dot(input_dataset, theta).reshape(input_dataset.shape[0], 1)\n",
        "  predicted_output = 1/(1 + np.exp((-1)*linearPart))\n",
        "  return predicted_output\n",
        "\n",
        "# logisticRegressionHypothesis(x_test, theta)"
      ],
      "execution_count": 21,
      "outputs": [
        {
          "output_type": "execute_result",
          "data": {
            "text/plain": [
              "array([[0.77727793],\n",
              "       [0.27354083],\n",
              "       [0.63627068],\n",
              "       ...,\n",
              "       [0.31282325],\n",
              "       [0.01053806],\n",
              "       [0.22226149]])"
            ]
          },
          "metadata": {
            "tags": []
          },
          "execution_count": 21
        }
      ]
    },
    {
      "cell_type": "code",
      "metadata": {
        "id": "wf0V_Iqw4naD",
        "colab": {
          "base_uri": "https://localhost:8080/"
        },
        "outputId": "bdf792e6-c291-4074-e9a3-9e6fbda6e265"
      },
      "source": [
        "def costCalculation(input_dataset, output_dataset, theta):\n",
        "  predicted_output = logisticRegressionHypothesis(input_dataset, theta)\n",
        "  cost_y_true = output_dataset*np.log(predicted_output)\n",
        "  cost_y_false = (1 - output_dataset)*np.log(1-predicted_output)\n",
        "\n",
        "  cost = np.sum(cost_y_true + cost_y_false)*(-1)/(input_dataset.shape[0])\n",
        "  return cost\n",
        "\n",
        "costCalculation(x_train, y_train, theta)"
      ],
      "execution_count": 32,
      "outputs": [
        {
          "output_type": "execute_result",
          "data": {
            "text/plain": [
              "1.215292001812945"
            ]
          },
          "metadata": {
            "tags": []
          },
          "execution_count": 32
        }
      ]
    },
    {
      "cell_type": "code",
      "metadata": {
        "id": "NRNmxPfd4oFG",
        "colab": {
          "base_uri": "https://localhost:8080/"
        },
        "outputId": "b74948ca-b0de-4050-96f0-6a895244bc34"
      },
      "source": [
        "def logisticOptimization(input_dataset, output_dataset, theta):\n",
        "  predicted_output = logisticRegressionHypothesis(input_dataset, theta)\n",
        "  diff = predicted_output - output_dataset\n",
        " \n",
        "  # derivative = np.sum((diff*input_dataset)/input_dataset.shape[0]), axis=0).reshape(theta.shape[0], 1)\n",
        "  derivative = np.dot(np.transpose(input_dataset), diff/input_dataset.shape[0])\n",
        "  theta = theta - learning_rate*derivative\n",
        "\n",
        "  return np.array(theta).reshape(len(theta),1)\n",
        "\n",
        "logisticOptimization(x_train, y_train, theta)"
      ],
      "execution_count": 33,
      "outputs": [
        {
          "output_type": "execute_result",
          "data": {
            "text/plain": [
              "array([[-0.85614655],\n",
              "       [ 0.49200125],\n",
              "       [-0.23700847],\n",
              "       [-0.7549485 ],\n",
              "       [-0.83005222]])"
            ]
          },
          "metadata": {
            "tags": []
          },
          "execution_count": 33
        }
      ]
    },
    {
      "cell_type": "code",
      "metadata": {
        "colab": {
          "base_uri": "https://localhost:8080/"
        },
        "id": "9-8SxcQa6Fqi",
        "outputId": "8a714e14-6221-4364-aa94-612146d0c81c"
      },
      "source": [
        "for epoch in range(30):\n",
        "  cost = costCalculation(x_cv, y_cv, theta)\n",
        "  theta = logisticOptimization(x_train, y_train, theta)\n",
        "  \n",
        "  print(cost)\n",
        "  if (cost < cost_threshold):\n",
        "    print(cost)\n",
        "    break\n",
        "  \n",
        "print(theta)"
      ],
      "execution_count": 39,
      "outputs": [
        {
          "output_type": "stream",
          "text": [
            "0.025696202510854534\n",
            "0.02569618428909816\n",
            "0.025696166067392695\n",
            "0.025696147845738124\n",
            "0.025696129624134458\n",
            "0.0256961114025817\n",
            "0.025696093181079845\n",
            "0.025696074959628893\n",
            "0.02569605673822884\n",
            "0.025696038516879693\n",
            "0.025696020295581448\n",
            "0.025696002074334107\n",
            "0.025695983853137663\n",
            "0.02569596563199213\n",
            "0.02569594741089749\n",
            "0.025695929189853757\n",
            "0.025695910968860924\n",
            "0.025695892747918996\n",
            "0.02569587452702796\n",
            "0.02569585630618783\n",
            "0.0256958380853986\n",
            "0.025695819864660272\n",
            "0.025695801643972827\n",
            "0.025695783423336303\n",
            "0.025695765202750673\n",
            "0.025695746982215932\n",
            "0.0256957287617321\n",
            "0.025695710541299162\n",
            "0.025695692320917125\n",
            "0.025695674100585982\n",
            "[[ 0.17907519]\n",
            " [ 0.09242666]\n",
            " [13.41497474]\n",
            " [-0.11926347]\n",
            " [-0.02770275]]\n"
          ],
          "name": "stdout"
        }
      ]
    },
    {
      "cell_type": "code",
      "metadata": {
        "id": "aYSQJf9lBgrM",
        "colab": {
          "base_uri": "https://localhost:8080/"
        },
        "outputId": "ce17949f-b2c2-4c1e-f5b0-8ef8fa6cef72"
      },
      "source": [
        "costCalculation(x_test, y_test, theta)"
      ],
      "execution_count": 40,
      "outputs": [
        {
          "output_type": "execute_result",
          "data": {
            "text/plain": [
              "0.02429807854383003"
            ]
          },
          "metadata": {
            "tags": []
          },
          "execution_count": 40
        }
      ]
    },
    {
      "cell_type": "code",
      "metadata": {
        "id": "W9ApuyIPEfsK"
      },
      "source": [
        ""
      ],
      "execution_count": null,
      "outputs": []
    }
  ]
}